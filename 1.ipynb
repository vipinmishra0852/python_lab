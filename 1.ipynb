import pandas as pd
import numpy as np
df=pd.DataFrame([[1.0,2.0,3.0,4.0],[12.2,2.3,4.3,2.3],[np.NaN,3,4,2]])
df.columns=['A','B','C','D']
print(df)
print(df.isnull().sum())

df=pd.DataFrame([[1.0,2.0,3.0,4.0],[12.2,2.3,4.3,2.3],[np.NaN,3,4,np.NaN]])
df.columns=['A','B','C','D']
print(df)
print(df.isnull().sum())

df_1=df.dropna(axis=0)
print(df_1)
df_2=df.dropna(axis=1)
print(df_2)

df_3=df.dropna(how='all')
print(df_3)
df_4=df.dropna(subset=['C'])
print(df_4)

from sklearn.impute import SimpleImputer
imputer=SimpleImputer(missing_values=np.nan,strategy='mean')
imputed_data=imputer.fit_transform(df.values)
print(imputed_data)

imputer=SimpleImputer(missing_values=np.nan,strategy='mean')
imputed_data=imputer.fit_transform(df.values)
print(imputed_data)

imputer=SimpleImputer(missing_values=np.nan,strategy='median')
imputed_data=imputer.fit_transform(df.values)
print(imputed_data)

imputer=SimpleImputer(missing_values=np.nan,strategy='most_frequent')
imputed_data=imputer.fit_transform(df.values)
print(imputed_data)
