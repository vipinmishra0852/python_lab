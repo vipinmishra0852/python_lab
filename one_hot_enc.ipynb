import pandas as pd
import numpy as np

# Creating the DataFrame
df = pd.DataFrame([['green', 'M', 10.1, 'class1'],
                   ['red', 'L', 13.5, 'class2'],
                   ['blue', 'XL', 15.3, 'class1']])

# Assigning column names
df.columns = ['colors', 'size', 'price', 'classlabel']

# Printing the DataFrame
print(df)


import pandas as pd
import numpy as np

# Creating the DataFrame
df = pd.DataFrame([['green', 'M', 10.1, 'class1'],
                   ['red', 'L', 13.5, 'class2'],
                   ['blue', 'XL', 15.3, 'class1']])

# Assigning column names
df.columns = ['colors', 'size', 'price', 'classlabel']

# Mapping the 'size' column values to numerical values using the size_mapping dictionary
size_mapping = {'XL': 3, 'L': 2, 'M': 1}
df['size'] = df['size'].map(size_mapping)

# Printing the updated DataFrame
print(df)


from sklearn.preprocessing import LabelEncoder

# Initialize the LabelEncoder
class_le = LabelEncoder()

# Fit the LabelEncoder and transform the 'classlabel' column
y = class_le.fit_transform(df['classlabel'].values)

# Print the transformed labels
print(y)


# Assign the transformed labels back to the 'classlabel' column
df['classlabel'] = y

# Print the updated DataFrame
print(df)


# Inverse transform the numeric labels back to original class labels
R_ = class_le.inverse_transform(y)

# Print the inverse transformed labels
print(R_)


from sklearn.preprocessing import OneHotEncoder

# Check if 'color' column exists in the DataFrame
if 'colors' in df.columns:  # Corrected to 'colors' (since your DataFrame has a 'colors' column)
    # Initialize OneHotEncoder with sparse_output=False and set_output to pandas for DataFrame output
    ohe = OneHotEncoder(sparse_output=False).set_output(transform='pandas')

    # Apply OneHotEncoder to the 'colors' column and store the result in F_
    F_ = ohe.fit_transform(df[['colors']])

    # Print the resulting One-Hot Encoded DataFrame
    print('One-Hot Encoded DataFrame:')
    print(F_)
else:
    print("The column 'colors' does not exist in the DataFrame.")


from sklearn.preprocessing import OneHotEncoder
import pandas as pd

# Check if 'colors' column exists in the DataFrame
if 'colors' in df.columns:  # Corrected column name to 'colors'
    # Initialize OneHotEncoder with sparse_output=False and set_output to pandas for DataFrame output
    ohe = OneHotEncoder(sparse_output=False).set_output(transform='pandas')

    # Apply OneHotEncoder to the 'colors' column and store the result in F_
    F_ = ohe.fit_transform(df[['colors']])

    # Concatenate the original DataFrame (df) and the One-Hot Encoded DataFrame (F_)
    YY_ = pd.concat(objs=[df, F_], axis=1)

    # Print the resulting DataFrame
    print(YY_)
else:
    print("The column 'colors' does not exist in the DataFrame.")


from sklearn.preprocessing import OneHotEncoder
import pandas as pd

# Check if 'colors' column exists in the DataFrame (adjusted column name)
if 'colors' in df.columns:  # Corrected column name to 'colors'
    # Initialize OneHotEncoder with sparse_output=False and set_output to pandas for DataFrame output
    ohe = OneHotEncoder(sparse_output=False).set_output(transform='pandas')

    # Apply OneHotEncoder to the 'colors' column and store the result in F_
    F_ = ohe.fit_transform(df[['colors']])

    # Concatenate the original DataFrame (df) and the One-Hot Encoded DataFrame (F_),
    # Then drop the original 'colors' column
    YY_ = pd.concat(objs=[df, F_], axis=1).drop(columns='colors')

    # Print the resulting DataFrame
    print(YY_)
else:
    print("The column 'colors' does not exist in the DataFrame.")


# Importing the OneHotEncoder from sklearn.preprocessing module
from sklearn.preprocessing import OneHotEncoder

# Checking if the 'color' column exists in the DataFrame
if 'color' in df.columns:
    # Creating an instance of OneHotEncoder with sparse_output set to False and transform set to 'pandas'
    ohe = OneHotEncoder(sparse_output=False).set_output(transform='pandas')

    # Applying the OneHotEncoder to the 'color' column. We pass a DataFrame with one column ('color') to the encoder.
    F_ = ohe.fit_transform(df[['color']])

    # Printing the result of the one-hot encoding transformation
    print('F_ _')
    print(F_)
else:
    # If the 'color' column does not exist, print a message
    print("The column 'color' does not exist in the DataFrame.")
