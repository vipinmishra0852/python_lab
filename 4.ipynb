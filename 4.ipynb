import pandas as pd
import numpy as np

df=pd.DataFrame([['green','M',10.1,'class1'],['red','L',13.5,'class2'],['blue','XL',15.3,'class1']])
df.columns=['colors','size','price','classlabel']
print(df)

size_mapping={'XL':3,'L':2,'M':1}
df['size']=df['size'].map(size_mapping)
print(df)

from sklearn.preprocessing import LabelEncoder
class_le=LabelEncoder()
y=class_le.fit_transform(df['classlabel'].values)
print(y)

df['classlabel']=y
print(df)

R_=class_le.inverse_transform(y)
print(R_)

from sklearn.preprocessing import OneHotEncoder

if 'color' in df.columns:
    ohe = OneHotEncoder(sparse_output=False).set_output(transform='pandas')
    F_ = ohe.fit_transform(df[['color']])
    print('FF_ _')
    print(F_)
else:
    print("The column 'color' does not exist in the DataFrame.")


from sklearn.preprocessing import OneHotEncoder
import pandas as pd

if 'color' in df.columns:
    ohe = OneHotEncoder(sparse_output=False).set_output(transform='pandas')
    F_ = ohe.fit_transform(df[['color']])

    YY_ = pd.concat(objs=[df, F_], axis=1)
    print(YY_)
else:
    print("The column 'color' does not exist in the DataFrame.")


from sklearn.preprocessing import OneHotEncoder
import pandas as pd

if 'color' in df.columns:
    ohe = OneHotEncoder(sparse_output=False).set_output(transform='pandas')
    F_ = ohe.fit_transform(df[['color']])

    YY_ = pd.concat(objs=[df, F_], axis=1).drop(columns='color')
    print(YY_)
else:
    print("The column 'color' does not exist in the DataFrame.")
